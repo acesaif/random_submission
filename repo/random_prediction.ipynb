{
 "cells": [
  {
   "cell_type": "markdown",
   "metadata": {},
   "source": [
    "### Hackathon Challenge"
   ]
  },
  {
   "cell_type": "code",
   "execution_count": 7,
   "metadata": {
    "ExecuteTime": {
     "end_time": "2018-02-07T23:00:51.657021Z",
     "start_time": "2018-02-07T23:00:51.652431Z"
    }
   },
   "outputs": [],
   "source": [
    "import csv\n",
    "import numpy as np\n",
    "from time import time\n",
    "\n",
    "from sklearn.cross_validation import train_test_split\n",
    "from sklearn.metrics import accuracy_score"
   ]
  },
  {
   "cell_type": "code",
   "execution_count": 8,
   "metadata": {
    "ExecuteTime": {
     "end_time": "2018-02-07T23:00:52.444022Z",
     "start_time": "2018-02-07T23:00:51.881213Z"
    },
    "scrolled": false
   },
   "outputs": [],
   "source": [
    "with open('random_submission.csv') as csvfile:\n",
    "    readCSV = csv.reader(csvfile, delimiter=',')\n",
    "    ids = []\n",
    "    iidds = []\n",
    "    predicition = []\n",
    "    pred = []\n",
    "\n",
    "    for i, p in readCSV:\n",
    "        ids.append(i)\n",
    "        predicition.append(p)\n",
    "\n",
    "    for k in predicition[1:5001]:\n",
    "        pred.append(int(k))\n",
    "    for j in ids[1:5001]:\n",
    "        iidds.append(int(j))\n",
    "\n",
    "iidds = np.array(iidds).reshape(-1, 1)\n",
    "pred = np.array(pred)"
   ]
  },
  {
   "cell_type": "code",
   "execution_count": 9,
   "metadata": {
    "ExecuteTime": {
     "end_time": "2018-02-07T23:00:52.785150Z",
     "start_time": "2018-02-07T23:00:52.445892Z"
    }
   },
   "outputs": [],
   "source": [
    "X_train, X_test, y_train, y_test = train_test_split(\n",
    "    iidds, pred, random_state=100)"
   ]
  },
  {
   "cell_type": "code",
   "execution_count": 10,
   "metadata": {
    "ExecuteTime": {
     "end_time": "2018-02-07T23:00:52.791729Z",
     "start_time": "2018-02-07T23:00:52.787346Z"
    },
    "scrolled": true
   },
   "outputs": [
    {
     "name": "stdout",
     "output_type": "stream",
     "text": [
      "(3750, 1) (1250, 1)\n",
      "(3750,) (1250,)\n"
     ]
    }
   ],
   "source": [
    "print(X_train.shape, X_test.shape)\n",
    "print(y_train.shape, y_test.shape)"
   ]
  },
  {
   "cell_type": "markdown",
   "metadata": {},
   "source": [
    "### Gaussian Naive Bayes"
   ]
  },
  {
   "cell_type": "code",
   "execution_count": 11,
   "metadata": {
    "ExecuteTime": {
     "end_time": "2018-02-07T23:00:54.437189Z",
     "start_time": "2018-02-07T23:00:52.794933Z"
    },
    "scrolled": false
   },
   "outputs": [
    {
     "name": "stdout",
     "output_type": "stream",
     "text": [
      "Training time: 0.758s\n",
      "[711685629 160157266 222138571 ... 175843072   2389698 311716519]\n",
      "Prdicting time: 0.401s\n",
      "0.0\n",
      "0.0\n"
     ]
    }
   ],
   "source": [
    "from sklearn.naive_bayes import GaussianNB\n",
    "\n",
    "clfnb = GaussianNB()\n",
    "\n",
    "tnbt = time()\n",
    "clfnb.fit(X_train, y_train)\n",
    "print(\"Training time: %ss\" % round(time() - tnbt, 3))\n",
    "\n",
    "tnbp = time()\n",
    "predynb = clfnb.predict(X_test)\n",
    "print(predynb)\n",
    "print(\"Prdicting time: %ss\" % round(time() - tnbp, 3))\n",
    "\n",
    "# csv_1 = pd.DataFrame(predynb, columns=['Predicted']).to_csv('naive_predictions.csv')\n",
    "\n",
    "# with open('naive_predictions.csv',newline='') as f1:\n",
    "#     r = csv.reader(f1)\n",
    "#     data = [line for line in r]\n",
    "# with open('naive_predictions.csv', 'w', newline='') as f2:\n",
    "#     w = csv.writer(f2)\n",
    "#     w.writerow(['Id', 'Predicted'])\n",
    "#     w.writerows(data)\n",
    "\n",
    "scorenb = clfnb.score(X_test, y_test)\n",
    "print(scorenb)\n",
    "\n",
    "accnb = accuracy_score(y_test, predynb)\n",
    "print(accnb)"
   ]
  },
  {
   "cell_type": "markdown",
   "metadata": {},
   "source": [
    "### Random Forest Classifier"
   ]
  },
  {
   "cell_type": "code",
   "execution_count": 12,
   "metadata": {
    "ExecuteTime": {
     "end_time": "2018-02-07T23:01:05.357798Z",
     "start_time": "2018-02-07T23:00:54.439465Z"
    },
    "scrolled": true
   },
   "outputs": [
    {
     "name": "stdout",
     "output_type": "stream",
     "text": [
      "Training time: 9.232s\n",
      "[183821746 160157266 222138571 ... 304998473   2389698 898378689]\n",
      "Predicting time: 0.678s\n",
      "0.0\n",
      "0.0\n"
     ]
    }
   ],
   "source": [
    "from sklearn.ensemble import RandomForestClassifier\n",
    "\n",
    "clfr = RandomForestClassifier()\n",
    "\n",
    "trt = time()\n",
    "clfr.fit(X_train, y_train)\n",
    "print(\"Training time: %ss\" % round(time() - trt, 3))\n",
    "\n",
    "trp = time()\n",
    "predyr = clfr.predict(X_test)\n",
    "print(predyr)\n",
    "print(\"Predicting time: %ss\" % round(time() - trp, 3))\n",
    "\n",
    "scorer = clfr.score(X_test, y_test)\n",
    "print(scorer)\n",
    "\n",
    "accr = accuracy_score(y_test, predynb)\n",
    "print(accr)"
   ]
  }
 ],
 "metadata": {
  "gist": {
   "data": {
    "description": "Desktop/pucho/random_submission/random_prediction.ipynb",
    "public": false
   },
   "id": ""
  },
  "kernelspec": {
   "display_name": "Python 3",
   "language": "python",
   "name": "python3"
  },
  "language_info": {
   "codemirror_mode": {
    "name": "ipython",
    "version": 3
   },
   "file_extension": ".py",
   "mimetype": "text/x-python",
   "name": "python",
   "nbconvert_exporter": "python",
   "pygments_lexer": "ipython3",
   "version": "3.6.4"
  },
  "toc": {
   "nav_menu": {},
   "number_sections": true,
   "sideBar": true,
   "skip_h1_title": false,
   "title_cell": "Table of Contents",
   "title_sidebar": "Contents",
   "toc_cell": false,
   "toc_position": {},
   "toc_section_display": true,
   "toc_window_display": false
  }
 },
 "nbformat": 4,
 "nbformat_minor": 2
}
